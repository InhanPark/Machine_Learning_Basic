{
 "cells": [
  {
   "cell_type": "code",
   "execution_count": 67,
   "metadata": {},
   "outputs": [],
   "source": [
    "#4.1.1 정규방정식\n",
    "#정규방정식은 선형함수에서 실손함수를 최소화하는,\n",
    "#즉 예상과 실제값 사이의 오차를 줄이는 선형함수의 세타값을 직접 구하는 방식이다\n",
    "import numpy as np\n",
    "import matplotlib.pyplot as plt\n",
    "#우선, 무작위로 만든 선형데이터셋을 만든다\n",
    "X = 2 * np.random.rand(100, 1)\n",
    "y = 4 + 3 * X + np.random.randn(100, 1)"
   ]
  },
  {
   "cell_type": "code",
   "execution_count": 68,
   "metadata": {},
   "outputs": [],
   "source": [
    "#세타값을 구하기 위해\n",
    "#numpy의 선형대수 모듈을 사용하여\n",
    "#이 데이터셋의 방정식의 세타값(실손함수를 최소화하는 쪽이 아니다)을 구한다\n",
    "X_b = np.c_[np.ones((100,1)),X]\n",
    "theta_best = np.linalg.inv(X_b.T.dot(X_b)).dot(X_b.T).dot(y)"
   ]
  },
  {
   "cell_type": "code",
   "execution_count": 69,
   "metadata": {},
   "outputs": [
    {
     "data": {
      "text/plain": [
       "array([[4.26096238],\n",
       "       [2.86634411]])"
      ]
     },
     "execution_count": 69,
     "metadata": {},
     "output_type": "execute_result"
    }
   ],
   "source": [
    "theta_best"
   ]
  },
  {
   "cell_type": "code",
   "execution_count": 70,
   "metadata": {},
   "outputs": [
    {
     "data": {
      "text/plain": [
       "array([[4.26096238],\n",
       "       [9.9936506 ]])"
      ]
     },
     "execution_count": 70,
     "metadata": {},
     "output_type": "execute_result"
    }
   ],
   "source": [
    "#위에서 구한 방정식의 세타값을 통해\n",
    "#모델을 훈련시켜 실손함수를 최소화하는 쪽의 세타값을 예측한다\n",
    "X_new = np.array([[0],[2]])\n",
    "X_new_b = np.c_[np.ones((2,1)),X_new]\n",
    "y_predict = X_new_b.dot(theta_best)\n",
    "y_predict"
   ]
  },
  {
   "cell_type": "code",
   "execution_count": 71,
   "metadata": {},
   "outputs": [
    {
     "data": {
      "image/png": "[encoded data removed]",
      "text/plain": [
       "<Figure size 432x288 with 1 Axes>"
      ]
     },
     "metadata": {
      "needs_background": "light"
     },
     "output_type": "display_data"
    }
   ],
   "source": [
    "#다음과 같이 선형함수를 예측하는 것을 알 수 있다\n",
    "plt.plot(X_new,y_predict,\"r-\")\n",
    "plt.plot(X,y,\"b.\")\n",
    "plt.axis([0,2,0,15])\n",
    "plt.show()"
   ]
  },
  {
   "cell_type": "code",
   "execution_count": 72,
   "metadata": {},
   "outputs": [
    {
     "data": {
      "text/plain": [
       "(array([4.26096238]), array([[2.86634411]]))"
      ]
     },
     "execution_count": 72,
     "metadata": {},
     "output_type": "execute_result"
    }
   ],
   "source": [
    "#scikit-learn을 사용하면, 다음과 같은 방식으로 계산할 수 있다\n",
    "from sklearn.linear_model import LinearRegression\n",
    "lin_reg = LinearRegression()\n",
    "lin_reg.fit(X,y)\n",
    "lin_reg.intercept_,lin_reg.coef_"
   ]
  },
  {
   "cell_type": "code",
   "execution_count": 73,
   "metadata": {},
   "outputs": [
    {
     "data": {
      "text/plain": [
       "array([[4.26096238],\n",
       "       [9.9936506 ]])"
      ]
     },
     "execution_count": 73,
     "metadata": {},
     "output_type": "execute_result"
    }
   ],
   "source": [
    "lin_reg.predict(X_new)"
   ]
  },
  {
   "cell_type": "code",
   "execution_count": 74,
   "metadata": {},
   "outputs": [
    {
     "data": {
      "text/plain": [
       "array([[4.26096238],\n",
       "       [2.86634411]])"
      ]
     },
     "execution_count": 74,
     "metadata": {},
     "output_type": "execute_result"
    }
   ],
   "source": [
    "theta_best_svd,residuals,rank,s = np.linalg.lstsq(X_b,y,rcond=1e-6)\n",
    "theta_best_svd"
   ]
  },
  {
   "cell_type": "code",
   "execution_count": 75,
   "metadata": {},
   "outputs": [
    {
     "data": {
      "text/plain": [
       "array([[4.26096238],\n",
       "       [2.86634411]])"
      ]
     },
     "execution_count": 75,
     "metadata": {},
     "output_type": "execute_result"
    }
   ],
   "source": [
    "np.linalg.pinv(X_b).dot(y)"
   ]
  },
  {
   "cell_type": "code",
   "execution_count": 76,
   "metadata": {},
   "outputs": [],
   "source": [
    "#4.2.1 패치 경사 하강법\n",
    "#패치 경사 하강법은, 각 모델의 세타값의 변화에 따른 손실함수의 변화를 계산한다\n",
    "#이를 편미분이라 하며, 이 편미분을 한데 모아 계산하는것을 gradient vector라 한다\n",
    "#다음 알고리즘은, 학습률에 따른 세타값의 범위를 계산한다\n",
    "#이 범위가 데이터셋의 데이터들과 가장 근접한 것이 최적해가 된다\n",
    "eta = 0.1#학습률\n",
    "n_iterations = 1000\n",
    "m = 100\n",
    "theta = np.random.randn(2,1)"
   ]
  },
  {
   "cell_type": "code",
   "execution_count": 77,
   "metadata": {},
   "outputs": [],
   "source": [
    "for iteration in range(n_iterations):\n",
    "    gradients = 2/m * X_b.T.dot(X_b.dot(theta)-y)\n",
    "    theta = theta - eta * gradients"
   ]
  },
  {
   "cell_type": "code",
   "execution_count": 78,
   "metadata": {},
   "outputs": [
    {
     "data": {
      "text/plain": [
       "array([[4.26096238],\n",
       "       [2.86634411]])"
      ]
     },
     "execution_count": 78,
     "metadata": {},
     "output_type": "execute_result"
    }
   ],
   "source": [
    "theta"
   ]
  },
  {
   "cell_type": "code",
   "execution_count": 79,
   "metadata": {},
   "outputs": [],
   "source": [
    "#4.2.2\n",
    "#다음 코드는, 단순한 형태의 학습스케줄을 사용하여\n",
    "#확률적구배강하법을 실장했다\n",
    "#패치구배강하법은 훈련세트 전체를 대상으로 계산을 1000회 반복한 반면\n",
    "#이 코드는 훈련세트를 50회만 처리해도 답을 얻을 수 있다\n",
    "n_epochs = 50\n",
    "t0, t1 = 5, 50\n",
    "\n",
    "def learning_schedule(t):\n",
    "    return t0 / (t + t1)\n",
    "\n",
    "theta = np.random.randn(2,1)\n",
    "\n",
    "for epoch in range(n_epochs):\n",
    "    for i in range(m):\n",
    "        random_index = np.random.randint(m)\n",
    "        xi = X_b[random_index:random_index+1]\n",
    "        yi = y[random_index:random_index+1]\n",
    "        gradients = 2 * xi.T.dot(xi.dot(theta) - yi)\n",
    "        eta = learning_schedule(epoch * m + 1)\n",
    "        theta = theta - eta * gradients"
   ]
  },
  {
   "cell_type": "code",
   "execution_count": 80,
   "metadata": {},
   "outputs": [
    {
     "data": {
      "text/plain": [
       "array([[4.28676629],\n",
       "       [2.90495367]])"
      ]
     },
     "execution_count": 80,
     "metadata": {},
     "output_type": "execute_result"
    }
   ],
   "source": [
    "theta"
   ]
  },
  {
   "cell_type": "code",
   "execution_count": 81,
   "metadata": {},
   "outputs": [
    {
     "data": {
      "text/plain": [
       "SGDRegressor(eta0=0.1, penalty=None)"
      ]
     },
     "execution_count": 81,
     "metadata": {},
     "output_type": "execute_result"
    }
   ],
   "source": [
    "#SGD선형회귀는 기본적으로 이승오차손실함수를 최적화시킨 SGDRegressor를 사용한다\n",
    "#다음은, 학습률 0.1부터 시작해, 디폴트 학습스케줄을 써서,정식화(정규화)하여, 한 에포크의 손실이\n",
    "#0.001미만으로, 1000에포크까지 실행했다\n",
    "from sklearn.linear_model import SGDRegressor\n",
    "sgd_reg = SGDRegressor(max_iter=1000, tol=1e-3, penalty=None, eta0=0.1)\n",
    "sgd_reg.fit(X, y.ravel())"
   ]
  },
  {
   "cell_type": "code",
   "execution_count": 82,
   "metadata": {},
   "outputs": [
    {
     "data": {
      "text/plain": [
       "(array([4.22994646]), array([2.83011468]))"
      ]
     },
     "execution_count": 82,
     "metadata": {},
     "output_type": "execute_result"
    }
   ],
   "source": [
    "sgd_reg.intercept_,sgd_reg.coef_"
   ]
  },
  {
   "cell_type": "code",
   "execution_count": 83,
   "metadata": {},
   "outputs": [],
   "source": [
    "#4.3 다항식회귀\n",
    "#다항식회귀는, 복잡한 데이터, 즉 비선형적 데이터를\n",
    "#선형 모델에 적합하게 할 때 사용한다\n",
    "#우선, 다음 2차방정식에서 비선형데이터를 생성해보자\n",
    "m = 100\n",
    "X = 6 * np.random.rand(m, 1) - 3\n",
    "y = 0.5 * X**2 + X + 2 + np.random.randn(m,1)"
   ]
  },
  {
   "cell_type": "code",
   "execution_count": 84,
   "metadata": {},
   "outputs": [
    {
     "data": {
      "text/plain": [
       "array([1.3522296])"
      ]
     },
     "execution_count": 84,
     "metadata": {},
     "output_type": "execute_result"
    }
   ],
   "source": [
    "#scikit-learn의 PolynomialFeatures를 사용하여\n",
    "#각 특징자의 거듭제곱을 새 특징량으로서 훈련세트에 추가한다\n",
    "from sklearn.preprocessing import PolynomialFeatures\n",
    "poly_features = PolynomialFeatures(degree = 2, include_bias = False)\n",
    "X_poly = poly_features.fit_transform(X)\n",
    "X[0]"
   ]
  },
  {
   "cell_type": "code",
   "execution_count": 85,
   "metadata": {},
   "outputs": [
    {
     "data": {
      "text/plain": [
       "array([1.3522296 , 1.82852489])"
      ]
     },
     "execution_count": 85,
     "metadata": {},
     "output_type": "execute_result"
    }
   ],
   "source": [
    "#그렇게 거듭제곱 특징량을 추가하면 다음과 같은 형식이 된다\n",
    "X_poly[0]"
   ]
  },
  {
   "cell_type": "code",
   "execution_count": 86,
   "metadata": {},
   "outputs": [
    {
     "data": {
      "text/plain": [
       "(array([1.75225247]), array([[0.98377514, 0.49474173]]))"
      ]
     },
     "execution_count": 86,
     "metadata": {},
     "output_type": "execute_result"
    }
   ],
   "source": [
    "#이 확장된 훈련데이터를 LinearRegression 모델에 적합화시켜 사용하면\n",
    "#원래의 함수와 근접한 모양의 모델을 만들어낼 수 있다\n",
    "lin_reg = LinearRegression()\n",
    "lin_reg.fit(X_poly, y)\n",
    "lin_reg.intercept_, lin_reg.coef_"
   ]
  },
  {
   "cell_type": "code",
   "execution_count": 87,
   "metadata": {},
   "outputs": [],
   "source": [
    "#4.4 학습곡선\n",
    "\n",
    "from sklearn.metrics import mean_squared_error\n",
    "from sklearn.model_selection import train_test_split\n",
    "\n",
    "def plot_learning_curves(model, X, y):\n",
    "    X_train, X_val, y_train, y_val = train_test_split(X, y, test_size = 0.2)\n",
    "    train_errors, val_errors = [], []\n",
    "    for m in range(1, len(X_train)):\n",
    "        model.fit(X_train[:m], y_train[:m])\n",
    "        y_train_predict = model.predict(X_train[:m])\n",
    "        y_val_predict = model.predict(X_val)\n",
    "        train_errors.append(mean_squared_error(y_train[:m], y_train_predict))\n",
    "        val_errors.append(mean_squared_error(y_val, y_val_predict))\n",
    "    plt.plot(np.sqrt(train_errors),\"r-+\",linewidth = 2, label = \"train\")\n",
    "    plt.plot(np.sqrt(val_errors),\"b-\",linewidth = 3, label = \"val\")"
   ]
  },
  {
   "cell_type": "code",
   "execution_count": 88,
   "metadata": {},
   "outputs": [
    {
     "data": {
      "image/png": "[encoded data removed]",
      "text/plain": [
       "<Figure size 432x288 with 1 Axes>"
      ]
     },
     "metadata": {
      "needs_background": "light"
     },
     "output_type": "display_data"
    }
   ],
   "source": [
    "#다음은 단순한 선형회귀모델의 학습곡선이다\n",
    "\n",
    "#훈련데이터에 대응하는 성능:\n",
    "#훈련세트의 인스턴스는 1,2개라면, 모델은 그것들에 완전히 적합할 수 있다\n",
    "#그래서, 훈련세트의 선이 0에서 시작한다\n",
    "#훈련세트의 새 인스턴스가 추가되면, 데이터에 노이즈가 들어가\n",
    "#곡선이 되지 않는 이유로, 점차 모델이 훈련데이터에 완전 적합할 수 없게 된다\n",
    "#때문에, 훈련오차는 점차 높은 지점에서 안정된다\n",
    "#새 인스턴스를 추가하는건 평균오차에 영향을 주지 않는다\n",
    "\n",
    "#검증세트에 대응하는 성능:\n",
    "#훈련세트에서 훈련한 모델은, 충분히 일반화할 수 없으므로\n",
    "#첫 검증오차가 꽤 크다\n",
    "#그러나, 모델이 베낀 훈련데이터의 수가 증가하면, 모델을 학습해, 검증오차가 줄어든다\n",
    "#이렇게 학습곡선은 과소적합의 전형적인 예시가 된다\n",
    "lin_reg = LinearRegression()\n",
    "plot_learning_curves(lin_reg, X, y)"
   ]
  },
  {
   "cell_type": "code",
   "execution_count": 89,
   "metadata": {},
   "outputs": [
    {
     "data": {
      "image/png": "[encoded data removed]",
      "text/plain": [
       "<Figure size 432x288 with 1 Axes>"
      ]
     },
     "metadata": {
      "needs_background": "light"
     },
     "output_type": "display_data"
    }
   ],
   "source": [
    "from sklearn.pipeline import  Pipeline\n",
    "polynomial_regression = Pipeline([\n",
    "    (\"poly_features\", PolynomialFeatures(degree = 10, include_bias = False)),\n",
    "    (\"lin_reg\", LinearRegression()),\n",
    "])\n",
    "plot_learning_curves(polynomial_regression, X, y)"
   ]
  },
  {
   "cell_type": "code",
   "execution_count": 90,
   "metadata": {},
   "outputs": [
    {
     "data": {
      "text/plain": [
       "array([[4.866955]])"
      ]
     },
     "execution_count": 90,
     "metadata": {},
     "output_type": "execute_result"
    }
   ],
   "source": [
    "#4.5.1 Ridge 회귀\n",
    "#Ridge회귀는 Ridge Regression이라고 불리며\n",
    "#손실함수에 정규화항을 더하는 것으로 사용된다\n",
    "#정규화란, 모델에 특정한 제한을 거는 것으로, 과학습을 완화하지만\n",
    "#모델의 자유도를 떨어트린다는 단점이 있다\n",
    "#Ridge회귀를 통해 정규화된 것으로, 예측 그래프는 좀더 직선에 가까운 형태가 된다\n",
    "from sklearn.linear_model import Ridge\n",
    "ridge_reg = Ridge(alpha = 1, solver = \"cholesky\")\n",
    "ridge_reg.fit(X,y)\n",
    "ridge_reg.predict([[1.5]])"
   ]
  },
  {
   "cell_type": "code",
   "execution_count": 91,
   "metadata": {},
   "outputs": [
    {
     "data": {
      "text/plain": [
       "array([4.84336245])"
      ]
     },
     "execution_count": 91,
     "metadata": {},
     "output_type": "execute_result"
    }
   ],
   "source": [
    "sgd_reg = SGDRegressor(penalty=\"l2\")\n",
    "sgd_reg.fit(X,y.ravel())\n",
    "sgd_reg.predict([[1.5]])"
   ]
  },
  {
   "cell_type": "code",
   "execution_count": 92,
   "metadata": {},
   "outputs": [
    {
     "data": {
      "text/plain": [
       "array([4.82285119])"
      ]
     },
     "execution_count": 92,
     "metadata": {},
     "output_type": "execute_result"
    }
   ],
   "source": [
    "#4.5.2 Lasso 회귀\n",
    "#Lasso회귀는 Least Absolute Shrinkage and Selection Operator Regression의 두문자어이다\n",
    "#손실함수에 추가해서 사용하며\n",
    "#중요도가 낮은 특징량의 가중치를 0으로 하는 성질이 있다\n",
    "#다음은 scikit-learn에서 Lasso클래스를 사용하는 예시이다\n",
    "from sklearn.linear_model import Lasso\n",
    "lasso_reg = Lasso(alpha=0.1)\n",
    "lasso_reg.fit(X,y)\n",
    "lasso_reg.predict([[1.5]])"
   ]
  },
  {
   "cell_type": "code",
   "execution_count": 93,
   "metadata": {},
   "outputs": [
    {
     "data": {
      "text/plain": [
       "array([4.82321017])"
      ]
     },
     "execution_count": 93,
     "metadata": {},
     "output_type": "execute_result"
    }
   ],
   "source": [
    "#4.5.3 Elastic Net\n",
    "#Elastic Net은 Ridge회귀와 Lasso회귀의 중간으로,\n",
    "#Ridge회귀의 정규화항과 Lasso회귀의 정규화항을 합쳐놓은 형태이다\n",
    "#그렇다보니, 둘을 쓰기 애매한 곳에 쓰기에 적합하다\n",
    "\n",
    "#예를 들어, Ridge는 특징량 중 일부만이 의미있는것으로 생각되는 경우에\n",
    "#Lasso나 Elastic Net이 쓰이며,\n",
    "#Lasso는 훈련인스턴스의 수보다 특징자의 수 쪽이 더 많은 경우나\n",
    "#복수의 특징량 사이에 강한 관계가 있어 불규칙한 움직임을 보일 수 있으므로\n",
    "#이 경우에는 Lasso대신 Elastic Net 쪽이 쓰인다\n",
    "\n",
    "#다음은 scikit-learn에서 ElasticNet 클래슬르 사용하는 예시이다\n",
    "from sklearn.linear_model import ElasticNet\n",
    "elastic_net = ElasticNet(alpha=0.1, l1_ratio=0.5)\n",
    "elastic_net.fit(X,y)\n",
    "elastic_net.predict([[1.5]])\n"
   ]
  },
  {
   "cell_type": "code",
   "execution_count": 94,
   "metadata": {},
   "outputs": [],
   "source": [
    "#4.5.4 조기중단\n",
    "#조기중단은 early stopping이라고도 하며\n",
    "#구배강하법 등 반복적으로 학습하는 알고리즘에서\n",
    "#검증오차가 최소치에 도달할 때 훈련을 중지시키는 수단을 말한다\n",
    "#검증오차가 최소치에 도달했다가 다시 상승하는 순간부터 과학습이 시작되기 때문에\n",
    "#조기중단을 사용해서 그것을 방지한다\n",
    "\n",
    "from sklearn.base import clone\n",
    "from sklearn.preprocessing import StandardScaler\n",
    "\n",
    "np.random.seed(42)\n",
    "m = 100\n",
    "X = 6 * np.random.rand(m, 1) - 3\n",
    "y = 2 + X + 0.5 * X**2 + np.random.randn(m, 1)\n",
    "\n",
    "X_train, X_val, y_train, y_val = train_test_split(X[:50], y[:50].ravel(), test_size=0.5, random_state=10)\n",
    "\n",
    "poly_scalar = Pipeline([\n",
    "    (\"poly_features\", PolynomialFeatures(degree=90,include_bias=False)),\n",
    "    (\"std_scaler\", StandardScaler())\n",
    "])\n",
    "X_train_poly_scaled = poly_scalar.fit_transform(X_train)\n",
    "X_val_poly_scaled = poly_scalar.transform(X_val)\n",
    "#convergence warning : increase max_iter\n",
    "sgd_reg = SGDRegressor(max_iter=1000,tol=np.infty,warm_start=True,\n",
    "                       penalty=None,learning_rate=\"constant\",eta0=0.0005)\n",
    "\n",
    "minimum_val_error = float(\"inf\")\n",
    "best_epoch = None\n",
    "best_model = None\n",
    "for epoch in range(1000):\n",
    "    sgd_reg.fit(X_train_poly_scaled, y_train)\n",
    "    y_val_predict = sgd_reg.predict(X_val_poly_scaled)\n",
    "    val_error = mean_squared_error(y_val, y_val_predict)\n",
    "    if val_error < minimum_val_error:\n",
    "        minimum_val_error = val_error\n",
    "        best_epoch = epoch\n",
    "        best_model = clone(sgd_reg)"
   ]
  },
  {
   "cell_type": "code",
   "execution_count": 95,
   "metadata": {},
   "outputs": [
    {
     "data": {
      "text/plain": [
       "['data',\n",
       " 'target',\n",
       " 'frame',\n",
       " 'target_names',\n",
       " 'DESCR',\n",
       " 'feature_names',\n",
       " 'filename',\n",
       " 'data_module']"
      ]
     },
     "execution_count": 95,
     "metadata": {},
     "output_type": "execute_result"
    }
   ],
   "source": [
    "#4.6.3 결정경계\n",
    "#결정경계란, 분류기가 인스턴스를 어느 한 쪽으로 분류할 때,\n",
    "#양측의 확률이 약 50%정도로 비슷한 영역을 말한다\n",
    "\n",
    "#예시로, iris의 종류를 구분하는 분류기를 사용해보자\n",
    "from sklearn import datasets\n",
    "iris = datasets.load_iris()\n",
    "list(iris.keys())"
   ]
  },
  {
   "cell_type": "code",
   "execution_count": 96,
   "metadata": {},
   "outputs": [],
   "source": [
    "#iris의 인스턴스들 중 꽃잎의 넓이가 3cm인 것들을 사용한다\n",
    "X = iris[\"data\"][:,3:]\n",
    "y = (iris[\"target\"] == 2).astype(int)"
   ]
  },
  {
   "cell_type": "code",
   "execution_count": 97,
   "metadata": {},
   "outputs": [
    {
     "data": {
      "text/plain": [
       "LogisticRegression()"
      ]
     },
     "execution_count": 97,
     "metadata": {},
     "output_type": "execute_result"
    }
   ],
   "source": [
    "from sklearn.linear_model import LogisticRegression\n",
    "log_reg = LogisticRegression()\n",
    "log_reg.fit(X, y)"
   ]
  },
  {
   "cell_type": "code",
   "execution_count": 98,
   "metadata": {},
   "outputs": [
    {
     "data": {
      "text/plain": [
       "[<matplotlib.lines.Line2D at 0x29dc408d508>]"
      ]
     },
     "execution_count": 98,
     "metadata": {},
     "output_type": "execute_result"
    },
    {
     "data": {
      "image/png": "[encoded data removed]",
      "text/plain": [
       "<Figure size 432x288 with 1 Axes>"
      ]
     },
     "metadata": {
      "needs_background": "light"
     },
     "output_type": "display_data"
    }
   ],
   "source": [
    "#분류기를 사용해, 꽃잎의 넓이에 따라\n",
    "#Iris의 각의 인스턴스가 Virginica인지 아닌지를 분류한다\n",
    "#Virginica는 꽃잎이 약 1.4cm에서 2.5cm정도인 종으로, 넓이가 3cm까지인 현 상황에서는 상당히 큰 종이다\n",
    "#이 범위의 다른 종들은 넓이가 0.1cm~1.8cm정도이다\n",
    "#즉 크기가 작을수록 Virginica일 확률이 낮아지고, 크기가 클수록 Virginica일 확률이 높아진다\n",
    "#그러나, 중간에 어느 쪽도 분포해 있는 넓이가 있으므로\n",
    "#어느 지점에서 양측 확률이 50%로 교차하는 지점이 있다\n",
    "#그 부근을 결정경계라 한다\n",
    "\n",
    "#이 그래프에선, 약 1.6cm정도가 결정경계가 된다\n",
    "X_new = np.linspace(0, 3, 1000).reshape(-1, 1)\n",
    "y_proba = log_reg.predict_proba(X_new)\n",
    "plt.plot(X_new, y_proba[:,1],\"g-\",label=\"Iris virginica\")\n",
    "plt.plot(X_new, y_proba[:,0],\"b--\",label=\"Not Iris virginica\")"
   ]
  },
  {
   "cell_type": "code",
   "execution_count": 99,
   "metadata": {},
   "outputs": [
    {
     "data": {
      "text/plain": [
       "array([1, 0])"
      ]
     },
     "execution_count": 99,
     "metadata": {},
     "output_type": "execute_result"
    }
   ],
   "source": [
    "#분류기는, 이 결정경계를 기준으로 판단하게 된다\n",
    "#예시로, 아래의 함수에서 넓이가 1.7cm로 1.6보다 큰 상황을 1, 즉 Virginica로 판단했고\n",
    "#1.5cm로 1.6보다 작은 상황을 1, 즉 Virginica가 아니라고 판단했다\n",
    "log_reg.predict([[1.7],[1.5]])"
   ]
  },
  {
   "cell_type": "code",
   "execution_count": 100,
   "metadata": {},
   "outputs": [
    {
     "data": {
      "text/plain": [
       "LogisticRegression(C=10, multi_class='multinomial')"
      ]
     },
     "execution_count": 100,
     "metadata": {},
     "output_type": "execute_result"
    }
   ],
   "source": [
    "#Softmax 회귀\n",
    "#Softmax 회귀는, 로지스틱스 회귀를 다중 클래스 분류에 사용할 수 있도록 정규화한 모델이다\n",
    "#각각의 인스턴스에 대해, 각 클래스에 대한 확률을 추산해 분류한다\n",
    "X = iris[\"data\"][:,(2,3)]\n",
    "y = iris[\"target\"]\n",
    "softmax_reg = LogisticRegression(multi_class=\"multinomial\",solver=\"lbfgs\",C=10)\n",
    "softmax_reg.fit(X, y)"
   ]
  },
  {
   "cell_type": "code",
   "execution_count": 101,
   "metadata": {},
   "outputs": [
    {
     "data": {
      "text/plain": [
       "array([2])"
      ]
     },
     "execution_count": 101,
     "metadata": {},
     "output_type": "execute_result"
    }
   ],
   "source": [
    "softmax_reg.predict([[5,2]])"
   ]
  },
  {
   "cell_type": "code",
   "execution_count": 102,
   "metadata": {},
   "outputs": [
    {
     "data": {
      "text/plain": [
       "array([[6.38014896e-07, 5.74929995e-02, 9.42506362e-01]])"
      ]
     },
     "execution_count": 102,
     "metadata": {},
     "output_type": "execute_result"
    }
   ],
   "source": [
    "#각 클래스에 대해 추산한 결과, 2번 클래스에 대한 확률이 가장 높은 결과를 얻었다\n",
    "#때문에, 위의 식에서 2로 예측되었다\n",
    "softmax_reg.predict_proba([[5,2]])"
   ]
  },
  {
   "cell_type": "code",
   "execution_count": null,
   "metadata": {},
   "outputs": [],
   "source": []
  }
 ],
 "metadata": {
  "kernelspec": {
   "display_name": "base",
   "language": "python",
   "name": "python3"
  },
  "language_info": {
   "codemirror_mode": {
    "name": "ipython",
    "version": 3
   },
   "file_extension": ".py",
   "mimetype": "text/x-python",
   "name": "python",
   "nbconvert_exporter": "python",
   "pygments_lexer": "ipython3",
   "version": "3.7.11"
  }
 },
 "nbformat": 4,
 "nbformat_minor": 2
}
